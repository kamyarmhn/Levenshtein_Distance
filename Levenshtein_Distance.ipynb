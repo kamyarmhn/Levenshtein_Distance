{
  "nbformat": 4,
  "nbformat_minor": 0,
  "metadata": {
    "colab": {
      "provenance": []
    },
    "kernelspec": {
      "name": "python3",
      "display_name": "Python 3"
    },
    "language_info": {
      "name": "python"
    }
  },
  "cells": [
    {
      "cell_type": "code",
      "execution_count": 6,
      "metadata": {
        "colab": {
          "base_uri": "https://localhost:8080/"
        },
        "id": "jeHCGIlqSEvq",
        "outputId": "ee3a5c71-f79d-4d83-bd73-ad1063cae0df"
      },
      "outputs": [
        {
          "output_type": "stream",
          "name": "stdout",
          "text": [
            "Distance between \"intention\" and \"execution\" is: 5\n",
            "Distance between \"Gily\" and \"Geely\" is: 2\n"
          ]
        }
      ],
      "source": [
        "# Calculating distance between two words using Levenshtein Algotithm\n",
        "\n",
        "def levenshtein_distance(word1, word2):\n",
        "    m = len(word1)\n",
        "    n = len(word2)\n",
        "    dp = [[0] * (n + 1) for _ in range(m + 1)]\n",
        "\n",
        "    for i in range(m + 1):\n",
        "        dp[i][0] = i\n",
        "    for j in range(n + 1):\n",
        "        dp[0][j] = j\n",
        "\n",
        "    for i in range(1, m + 1):\n",
        "        for j in range(1, n + 1):\n",
        "            if word1[i - 1] == word2[j - 1]:\n",
        "                dp[i][j] = dp[i - 1][j - 1]\n",
        "            else:\n",
        "                dp[i][j] = min(dp[i - 1][j - 1], dp[i][j - 1], dp[i - 1][j]) + 1\n",
        "\n",
        "    return dp[m][n]\n",
        "\n",
        "# Testing our Function:\n",
        "print('Distance between \"intention\" and \"execution\" is:', levenshtein_distance('intention','execution'))\n",
        "\n",
        "print('Distance between \"Gily\" and \"Geely\" is:', levenshtein_distance('Gily','Geely'))"
      ]
    }
  ]
}